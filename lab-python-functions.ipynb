{
 "cells": [
  {
   "cell_type": "markdown",
   "id": "25d7736c-ba17-4aff-b6bb-66eba20fbf4e",
   "metadata": {},
   "source": [
    "# Lab | Functions"
   ]
  },
  {
   "cell_type": "markdown",
   "id": "9e694b39",
   "metadata": {},
   "source": [
    "## Exercise: Managing Customer Orders with Functions\n",
    "\n",
    "In the previous exercise, you improved the code for managing customer orders by using loops and flow control. Now, let's take it a step further and refactor the code by introducing functions.\n",
    "\n",
    "Follow the steps below to complete the exercise:\n",
    "\n",
    "1. Define a function named `initialize_inventory` that takes `products` as a parameter. Inside the function, implement the code for initializing the inventory dictionary using a loop and user input.\n",
    "\n",
    "2. Define a function named `get_customer_orders` that takes no parameters. Inside the function, implement the code for prompting the user to enter the product names using a loop. The function should return the `customer_orders` set.\n",
    "\n",
    "3. Define a function named `update_inventory` that takes `customer_orders` and `inventory` as parameters. Inside the function, implement the code for updating the inventory dictionary based on the customer orders.\n",
    "\n",
    "4. Define a function named `calculate_order_statistics` that takes `customer_orders` and `products` as parameters. Inside the function, implement the code for calculating the order statistics (total products ordered, and percentage of unique products ordered). The function should return these values.\n",
    "\n",
    "5. Define a function named `print_order_statistics` that takes `order_statistics` as a parameter. Inside the function, implement the code for printing the order statistics.\n",
    "\n",
    "6. Define a function named `print_updated_inventory` that takes `inventory` as a parameter. Inside the function, implement the code for printing the updated inventory.\n",
    "\n",
    "7. Call the functions in the appropriate sequence to execute the program and manage customer orders.\n",
    "\n",
    "Hints for functions:\n",
    "\n",
    "- Consider the input parameters required for each function and their return values.\n",
    "- Utilize function parameters and return values to transfer data between functions.\n",
    "- Test your functions individually to ensure they work correctly.\n",
    "\n",
    "\n"
   ]
  },
  {
   "cell_type": "code",
   "execution_count": 32,
   "id": "c3c308f6",
   "metadata": {},
   "outputs": [],
   "source": [
    "#1\n",
    "def iinitialize_inventory(products):\n",
    "    inventory = {}\n",
    "    for  product in products:\n",
    "        inventory[product.lower()] = int(input(f\"Enter the quantity of {product} available  in  inventory:\"))\n",
    "        return inventory\n",
    "    \n",
    "    \n",
    "\n",
    "\n",
    "\n"
   ]
  },
  {
   "cell_type": "code",
   "execution_count": 25,
   "id": "0c581062-8967-4d93-b06e-62833222f930",
   "metadata": {
    "tags": []
   },
   "outputs": [],
   "source": [
    "#2\n",
    "def get_customer_orders(products):\n",
    "    customer_orders = set()\n",
    "    add_more = \"sí\"\n",
    "\n",
    "    while add_more == \"sí\":\n",
    "        order = input(\"Ingrese el producto que desea ordenar: \").lower()\n",
    "        if order in products:\n",
    "            customer_orders.add(order)\n",
    "        else:\n",
    "            print(\"Producto no disponible, por favor ingrese otro producto.\")\n",
    "        add_more = input(\"¿Desea seleccionar otro producto? (sí/no): \").lower()\n",
    "    return customer_orders\n",
    "\n"
   ]
  },
  {
   "cell_type": "code",
   "execution_count": null,
   "id": "21000d45",
   "metadata": {},
   "outputs": [],
   "source": [
    "#3\n",
    "def update_inventory(customer_orders, inventory):\n",
    "    for order in customer_orders:\n",
    "        if order in inventory:\n",
    "            if inventory[order] > 0:\n",
    "                inventory[order] -= 1\n",
    "            else:\n",
    "                print(f\"El producto '{order}' está agotado.\")\n",
    "        else:\n",
    "            print(f\"El producto '{order}' no existe en el inventario.\")\n"
   ]
  },
  {
   "cell_type": "code",
   "execution_count": 50,
   "id": "88317c1e",
   "metadata": {},
   "outputs": [],
   "source": [
    "#4\n",
    "def calculate_order_statistics(customer_orders, products):\n",
    "    total_products_ordered = len(customer_orders)\n",
    "    percentage_ordered = (total_products_ordered / len(products)) * 100\n",
    "    return total_products_ordered, percentage_ordered\n"
   ]
  },
  {
   "cell_type": "code",
   "execution_count": 51,
   "id": "7af9308a",
   "metadata": {},
   "outputs": [],
   "source": [
    "#5\n",
    "def print_order_statistics(order_statistics):\n",
    "    total_products_ordered, percentage_ordered = order_statistics\n",
    "    print(f\"Total de productos ordenados: {total_products_ordered}\")\n",
    "    print(f\"Porcentaje de productos ordenados: {percentage_ordered:}%\")"
   ]
  },
  {
   "cell_type": "code",
   "execution_count": null,
   "id": "d932ed65",
   "metadata": {},
   "outputs": [],
   "source": [
    "#6\n",
    "def print_inventory(inventory):\n",
    "    print(\"Inventario actual:\")\n",
    "    for product, quantity in inventory.items():\n",
    "        print(f\"{product}: {quantity}\")\n",
    "\n",
    "        "
   ]
  },
  {
   "cell_type": "code",
   "execution_count": null,
   "id": "5477c6b0",
   "metadata": {},
   "outputs": [],
   "source": [
    "#7\n",
    "def main():\n",
    "    #iniciar el inventario\n",
    "    products = [\"mug\", \"t-shirt\", \"hat\", \"book\", \"keychain\"]\n",
    "    #recibe la orden del cliente\n",
    "    customer_orders = get_customer_orders(products)\n",
    "    #actualiza el inventario\n",
    "    update_inventory(customer_orders, inventory)\n",
    "    #calcular estadisticas\n",
    "    order_statistics = calculate_order_statistics(customer_orders, products)\n",
    "    #imprime las estadisticas de pedidos\n",
    "    print_order_statistics(order_statistics)\n",
    "    #improme el inventario actualizado\n",
    "    print_inventory(inventory)"
   ]
  }
 ],
 "metadata": {
  "kernelspec": {
   "display_name": "Python 3",
   "language": "python",
   "name": "python3"
  },
  "language_info": {
   "codemirror_mode": {
    "name": "ipython",
    "version": 3
   },
   "file_extension": ".py",
   "mimetype": "text/x-python",
   "name": "python",
   "nbconvert_exporter": "python",
   "pygments_lexer": "ipython3",
   "version": "3.12.7"
  }
 },
 "nbformat": 4,
 "nbformat_minor": 5
}
