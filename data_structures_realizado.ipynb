{
 "cells": [
  {
   "cell_type": "code",
   "execution_count": null,
   "id": "ad362829-b24b-4f55-847b-a9614fa92816",
   "metadata": {},
   "outputs": [],
   "source": [
    "## Exercise: Managing Customer Orders\n",
    "\n",
    "As part of a business venture, you are starting an online store that sells various products. To ensure smooth operations, you need to develop a program that manages customer orders and inventory.\n",
    "\n",
    "Follow the steps below to complete the exercise:\n",
    "\n",
    "1. Define a list called `products` that contains the following items: \"t-shirt\", \"mug\", \"hat\", \"book\", \"keychain\".\n",
    "   \n",
    "\n",
    "3. Create an empty dictionary called `inventory`.\n",
    "\n",
    "4. Ask the user to input the quantity of each product available in the inventory. Use the product names from the `products` list as keys in the `inventory` dictionary and assign the respective quantities as values.\n",
    "\n",
    "5. Create an empty set called `customer_orders`.\n",
    "\n",
    "6. Ask the user to input the name of three products that a customer wants to order (from those in the products list, meaning three products out of \"t-shirt\", \"mug\", \"hat\", \"book\" or \"keychain\". Add each product name to the `customer_orders` set.\n",
    "\n",
    "7. Print the products in the `customer_orders` set.\n",
    "\n",
    "8. Calculate the following order statistics:\n",
    "   - Total Products Ordered: The total number of products in the `customer_orders` set.\n",
    "   - Percentage of Products Ordered: The percentage of products ordered compared to the total available products.\n",
    "   \n",
    "   Store these statistics in a tuple called `order_status`.\n",
    "\n",
    "9. Print the order statistics using the following format:\n",
    "   ```\n",
    "   Order Statistics:\n",
    "   Total Products Ordered: <total_products_ordered>\n",
    "   Percentage of Products Ordered: <percentage_ordered>% \n",
    "   ```\n"
   ]
  },
  {
   "cell_type": "code",
   "execution_count": null,
   "id": "dcbe01c1-9548-475d-9bd4-fb55a7b7322c",
   "metadata": {},
   "outputs": [],
   "source": [
    "# test"
   ]
  },
  {
   "cell_type": "code",
   "execution_count": 1,
   "id": "1b105755-22b6-48e8-a98f-f9d1d02451e7",
   "metadata": {},
   "outputs": [],
   "source": [
    "products=[\"t-shit\",\"mug\",\"hat\",\"book\",\"keychain\"]"
   ]
  },
  {
   "cell_type": "code",
   "execution_count": 3,
   "id": "c00b54fd-b7a5-4522-8eda-9a926a9b96e1",
   "metadata": {},
   "outputs": [],
   "source": [
    "inventory={}"
   ]
  },
  {
   "cell_type": "code",
   "execution_count": 33,
   "id": "5b154dc3-71b2-4770-8c25-9d188c461305",
   "metadata": {},
   "outputs": [
    {
     "name": "stdin",
     "output_type": "stream",
     "text": [
      "Please enter the quantity of each  product available in the t-shit:  22\n",
      "Please enter the quantity of each  product available in the mug:  34\n",
      "Please enter the quantity of each  product available in the hat:  55\n",
      "Please enter the quantity of each  product available in the book:  678\n",
      "Please enter the quantity of each  product available in the keychain:  77\n"
     ]
    }
   ],
   "source": [
    "for product in products:\n",
    "    quantity=int(input(f\"Please enter the quantity of each  product available in the {product}:\"))\n",
    "    inventory[product] = quantity"
   ]
  },
  {
   "cell_type": "code",
   "execution_count": 39,
   "id": "48e1529b-7bae-4acf-b881-0d5ed3f62379",
   "metadata": {},
   "outputs": [],
   "source": [
    "customer_orders=set()"
   ]
  },
  {
   "cell_type": "code",
   "execution_count": 47,
   "id": "e0533847-4ab8-4386-9c5e-0fbd0ac1bbcd",
   "metadata": {},
   "outputs": [
    {
     "name": "stdin",
     "output_type": "stream",
     "text": [
      "Enter  the name of the product you want to order  (options:t-shit, mug, hat, book, keychain):  mug\n",
      "Enter  the name of the product you want to order  (options:t-shit, mug, hat, book, keychain):  book\n",
      "Enter  the name of the product you want to order  (options:t-shit, mug, hat, book, keychain):  hat\n"
     ]
    }
   ],
   "source": [
    "for i in range(3):\n",
    "    order =input(f\"Enter  the name of the product you want to order  (options:{', '.join(products)}): \")\n",
    "    if order  in products:\n",
    "       customer_orders.add(order)\n",
    "    else:\n",
    "        print(\"invalid product ,  please choose another item of the list\")\n",
    "        \n"
   ]
  },
  {
   "cell_type": "code",
   "execution_count": 49,
   "id": "c93f419f-3ffe-48cb-918d-5ba3f961304d",
   "metadata": {},
   "outputs": [
    {
     "name": "stdout",
     "output_type": "stream",
     "text": [
      "{'hat', 'mug', 'book'}\n"
     ]
    }
   ],
   "source": [
    "print (customer_orders)"
   ]
  },
  {
   "cell_type": "code",
   "execution_count": null,
   "id": "edde6000-c86a-4cba-9fed-3a4365b80d81",
   "metadata": {},
   "outputs": [],
   "source": []
  },
  {
   "cell_type": "code",
   "execution_count": 51,
   "id": "cc8f768b-dbb1-40c0-af84-1fde13fa7986",
   "metadata": {},
   "outputs": [],
   "source": [
    "total_products_ordered=len(customer_orders)\n",
    "percentage_of_products_ordered= (total_products_ordered / len(products))*100\n",
    "order_status=(total_products_ordered,percentage_of_products_ordered)"
   ]
  },
  {
   "cell_type": "code",
   "execution_count": 53,
   "id": "63ecf71e-eeac-48df-a7b1-2b71b108ac9a",
   "metadata": {},
   "outputs": [
    {
     "name": "stdout",
     "output_type": "stream",
     "text": [
      "Order Statistics:\n",
      "Total Products Ordered:3\n",
      "Percentage of Products Ordered: 60.0\n"
     ]
    }
   ],
   "source": [
    "print(\"Order Statistics:\")\n",
    "print(f\"Total Products Ordered:{total_products_ordered}\")\n",
    "print(f\"Percentage of Products Ordered: {percentage_of_products_ordered}\")\n"
   ]
  },
  {
   "cell_type": "code",
   "execution_count": 59,
   "id": "08d07d55-16b4-4d9a-95a5-e74f9df88ce2",
   "metadata": {},
   "outputs": [],
   "source": [
    "for product in customer_orders:\n",
    "    if inventory[product] > 0:\n",
    "         inventory[product] -= 1\n",
    "    "
   ]
  },
  {
   "cell_type": "code",
   "execution_count": 61,
   "id": "df14dc4e-ad12-450b-9d73-23f7b606cb46",
   "metadata": {},
   "outputs": [
    {
     "name": "stdout",
     "output_type": "stream",
     "text": [
      "Inventory updated:\n",
      "t-shit: 22\n",
      "mug: 31\n",
      "hat: 52\n",
      "book: 675\n",
      "keychain: 77\n"
     ]
    }
   ],
   "source": [
    "print(\"Inventory updated:\")\n",
    "for product, quantity in inventory.items():\n",
    "    print(f\"{product}: {quantity}\")\n"
   ]
  },
  {
   "cell_type": "code",
   "execution_count": null,
   "id": "22d0a7f5-c48e-4327-ae53-bf040f38d638",
   "metadata": {},
   "outputs": [],
   "source": []
  }
 ],
 "metadata": {
  "kernelspec": {
   "display_name": "Python 3 (ipykernel)",
   "language": "python",
   "name": "python3"
  },
  "language_info": {
   "codemirror_mode": {
    "name": "ipython",
    "version": 3
   },
   "file_extension": ".py",
   "mimetype": "text/x-python",
   "name": "python",
   "nbconvert_exporter": "python",
   "pygments_lexer": "ipython3",
   "version": "3.12.4"
  }
 },
 "nbformat": 4,
 "nbformat_minor": 5
}
